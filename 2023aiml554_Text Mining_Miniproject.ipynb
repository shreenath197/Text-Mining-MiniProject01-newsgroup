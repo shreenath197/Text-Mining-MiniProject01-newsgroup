{
 "cells": [
  {
   "cell_type": "markdown",
   "id": "3379a0df-95a6-4d19-a023-296061dcc1fd",
   "metadata": {},
   "source": [
    "# Mini-Project (24 Marks)\n",
    "\n",
    "NOTE:\n",
    "\n",
    "1) ALL  THE QUESTIONS ARE MANDATORY\n",
    "\n",
    "2) You can use the Library and Frameworks wherever required except for TF-IDF as you have to implement TF-IDF from scratch.\n",
    "\n",
    "3) Merge all your problems into a single python Notebook and Upload a Single Python notebook for all your problems.\n",
    "\n",
    "4) Solution to the problems should be separate and placed one after the other in the final submission Notebook.\n",
    "\n",
    "5) Do not submit Zip files.\n",
    "\n",
    "6) Explicitly mention the questions as a Markdown cell in your notebook to segregate the different parts that you are attempting.\n",
    "\n",
    "7) No deadline extension would be entertained. We are very strict on this from now. We really appreciate you to start working on the miniproject from Day - 1 so as to prevent any last minute occlusions ( Health / office work or any other )\n",
    "\n",
    "You can use the following references for completing the assignment.\n",
    "\n",
    "1) https://medium.com/analytics-vidhya/part-of-speech-and-viterbi-algorithm-11138ef0c63d (Links to an external site.)\n",
    "\n",
    "2) https://towardsdatascience.com/end-to-end-topic-modeling-in-python-latent-dirichlet-allocation-lda-35ce4ed6b3e0 (Links to an external site.)\n",
    "\n",
    "3) https://towardsdatascience.com/from-dataframe-to-n-grams-e34e29df3460 (Links to an external site.)\n",
    "\n",
    " \n",
    "\n",
    "Dataset:  https://www.kaggle.com/datasets/crawford/20-newsgroups/data\n",
    "\n",
    "The dataset have 20 newsgroup. Consider each news as separate document.\n",
    "\n",
    " \n",
    "\n",
    "Term - Frequency Inverse Document Frequency  \n",
    "\n",
    " \n",
    "\n",
    "1) Remove Stopwords (1 Mark)\n",
    "\n",
    "2) Remove the punctuations. the special characters and convert the text to lower case.        (2 Mark)\n",
    "\n",
    "3) create bigrams for the entire dataset and list down 10 least frequent bigrams. ( 1 Marks )\n",
    "\n",
    "4) create bigrams for the entire dataset and list down 10 most frequent bigrams. ( 1 Marks )\n",
    "\n",
    "5) Differentiate between stemming and lemmetization by running algorithm on few words. You can choose the words by your own. ( 1 Mark )\n",
    "\n",
    "5) Implement the TF-IDF from scratch to use it for step 6. ( 3 Mark )\n",
    "\n",
    "6) plot the scatter graph of 5 random words from a document such  that - ( 3 Marks )\n",
    "\n",
    "x - axis frequency of word in the document\n",
    "y - axis Tf-IDF value\n",
    "Make sure to assign label to the scatter point which represent the word.\n",
    " \n",
    "\n",
    "Refer to the following link to create POS labeled data: https://www.geeksforgeeks.org/part-speech-tagging-stop-words-using-nltk-python/\n",
    "\n",
    " \n",
    "\n",
    "Perform Part of Speech Tagging using the Viterbi Algorithm, \n",
    "\n",
    "7) Label the cleaned Tf-IDF dataset ( obtained after performing step 1 and step 2 )   ( 2 Mark )\n",
    "\n",
    "8) Split the Train and the Test Dataset                      (1 Mark)\n",
    "\n",
    "9) Implement the Viterbi Algorithm ( you can use Library) to get the Part of Speech Tagging.        ( 3 Marks)\n",
    "\n",
    "10) Calculate the Accuracy and F1 score. ( Number of Predicted Correct Tag in the test set / Total number of Data points in the test set)   (2 Marks)\n",
    "\n",
    "   Topic Modelling        \n",
    "\n",
    "Use cleaned Tf-IDF dataset ( obtained after performing step 1 and step 2 ) \n",
    "\n",
    "11) Using the LDA algorithm create the Topics (10) for the Corpus             (2 Marks)\n",
    "\n",
    "12) List down the 10 words in each of the Topics Extracted.           (2 Marks)"
   ]
  },
  {
   "cell_type": "markdown",
   "id": "c00cad7f-84a5-44ec-b159-6762ec8f3f77",
   "metadata": {},
   "source": [
    "# Extracting a ZIP file  with using the built-in zipfile module"
   ]
  },
  {
   "cell_type": "code",
   "execution_count": 2,
   "id": "1bba81a7-d6ab-4468-b016-49f32b1410ec",
   "metadata": {},
   "outputs": [],
   "source": [
    "# Importing required packages\n",
    "import zipfile as zf\n",
    "import os\n",
    "\n",
    "# Defining the path to the ZIP file and the destination directory\n",
    "zip_file_path = r\"C:\\Users\\ASUS\\jupyterworkspace\\Assignment & Mini Project\\Module_05_Text Mining\\Text-Mining-MiniProject01-newsgroup\\datasets_archiveFiles.zip\"\n",
    "extract_to_path = r\"C:\\Users\\ASUS\\jupyterworkspace\\Assignment & Mini Project\\Module_05_Text Mining\\Text-Mining-MiniProject01-newsgroup\\datasets_extractedFiles\"\n",
    "\n",
    "# Creating the destination directory if it doesn't exist\n",
    "os.makedirs(extract_to_path, exist_ok=True)\n",
    "\n",
    "# Opening the ZIP file and extract its contents\n",
    "with zf.ZipFile(zip_file_path, 'r') as zip_ref:\n",
    "    zip_ref.extractall(extract_to_path)\n"
   ]
  },
  {
   "cell_type": "code",
   "execution_count": 3,
   "id": "fbf22dbf-45e5-4456-92dd-ca6946220e52",
   "metadata": {},
   "outputs": [
    {
     "name": "stdout",
     "output_type": "stream",
     "text": [
      "*****************************************************Displaying below first 5 records**********************************************************\n",
      "                                          text     category\n",
      "0           From: mathew <mathew@mantis.co.uk>  alt.atheism\n",
      "1  Subject: Alt.Atheism FAQ: Atheist Resources  alt.atheism\n",
      "2                                               alt.atheism\n",
      "3              Archive-name: atheism/resources  alt.atheism\n",
      "4          Alt-atheism-archive-name: resources  alt.atheism\n"
     ]
    }
   ],
   "source": [
    "# Importing required package\n",
    "import pandas as pd\n",
    "# Initializing empty lists, docs (to hold text lines) and labels (to hold category names)\n",
    "docs = []\n",
    "labels = []\n",
    "# Iterating over all files in the dataset_path using os.listdir()\n",
    "for file_name in os.listdir(extract_to_path):\n",
    "    file_path = os.path.join(extract_to_path, file_name)\n",
    "# Filtering for .txt files using if file_name.endswith('.txt').\n",
    "    if file_name.endswith('.txt'):\n",
    "# Extracting the category name from the file name\n",
    "        category = file_name.replace('.txt', '')\n",
    "# Opening each .txt file in latin1 encoding (to handle special characters).\n",
    "        try:\n",
    "            with open(file_path, 'r', encoding='latin1') as file:\n",
    "# Reading each line in the file, strip whitespace, and append it to the documents list\n",
    "                for line in file:\n",
    "# Appending the corresponding category to the labels list\n",
    "                    docs.append(line.strip())\n",
    "                    labels.append(category)\n",
    "        except Exception as e:\n",
    "            print(f\"Error reading file {extract_to_path}: {e}\")\n",
    "\n",
    "# Combining docs and labels into a pandas DataFrame with columns text and category.\n",
    "dataFrame = pd.DataFrame({'text': docs, 'category': labels})\n",
    "\n",
    "# Displaying the first five rows of the dataset and summarize it\n",
    "print(\"*****************************************************Displaying below first 5 records**********************************************************\")\n",
    "print(dataFrame.head())\n"
   ]
  },
  {
   "cell_type": "code",
   "execution_count": 4,
   "id": "2d676498-604b-4ece-a842-db1dfc9b016d",
   "metadata": {},
   "outputs": [
    {
     "name": "stdout",
     "output_type": "stream",
     "text": [
      "Count of all records in the DataFrame:- 1719260\n"
     ]
    }
   ],
   "source": [
    "# Displaying total count of records in the DataFrame\n",
    "print(\"Count of all records in the DataFrame:- {}\".format(len(dataFrame)))"
   ]
  },
  {
   "cell_type": "code",
   "execution_count": 5,
   "id": "ea10dc9d-8f82-404a-bb3d-32006e6399ed",
   "metadata": {},
   "outputs": [
    {
     "name": "stdout",
     "output_type": "stream",
     "text": [
      "A list of unique categories found:- ['alt.atheism' 'comp.graphics' 'comp.os.ms-windows.misc'\n",
      " 'comp.sys.ibm.pc.hardware' 'comp.sys.mac.hardware' 'comp.windows.x'\n",
      " 'misc.forsale' 'rec.autos' 'rec.motorcycles' 'rec.sport.baseball'\n",
      " 'rec.sport.hockey' 'sci.crypt' 'sci.electronics' 'sci.med' 'sci.space'\n",
      " 'soc.religion.christian' 'talk.politics.guns' 'talk.politics.mideast'\n",
      " 'talk.politics.misc' 'talk.religion.misc']\n"
     ]
    }
   ],
   "source": [
    "# Displayimg A list of unique categories found.\n",
    "print(\"A list of unique categories found:- {}\".format(dataFrame['category'].unique()))"
   ]
  },
  {
   "cell_type": "markdown",
   "id": "5e99c58b-7d76-4be8-928f-d927e4ca3623",
   "metadata": {},
   "source": [
    "# Task 1:- Remove Stopwords (1 Mark)"
   ]
  },
  {
   "cell_type": "code",
   "execution_count": 6,
   "id": "79017f96-dbba-4e71-ae41-cc8c117c0120",
   "metadata": {},
   "outputs": [
    {
     "name": "stderr",
     "output_type": "stream",
     "text": [
      "[nltk_data] Downloading package stopwords to\n",
      "[nltk_data]     C:\\Users\\ASUS\\AppData\\Roaming\\nltk_data...\n",
      "[nltk_data]   Package stopwords is already up-to-date!\n",
      "[nltk_data] Downloading package punkt to\n",
      "[nltk_data]     C:\\Users\\ASUS\\AppData\\Roaming\\nltk_data...\n",
      "[nltk_data]   Package punkt is already up-to-date!\n"
     ]
    },
    {
     "name": "stdout",
     "output_type": "stream",
     "text": [
      "****************************************Displaying below 5 records************************************************\n",
      "                                          text  \\\n",
      "0           From: mathew <mathew@mantis.co.uk>   \n",
      "1  Subject: Alt.Atheism FAQ: Atheist Resources   \n",
      "2                                                \n",
      "3              Archive-name: atheism/resources   \n",
      "4          Alt-atheism-archive-name: resources   \n",
      "\n",
      "                                    text_cleaned  \n",
      "0             : mathew < mathew @ mantis.co.uk >  \n",
      "1  Subject : Alt.Atheism FAQ : Atheist Resources  \n",
      "2                                                 \n",
      "3               Archive-name : atheism/resources  \n",
      "4           Alt-atheism-archive-name : resources  \n"
     ]
    }
   ],
   "source": [
    "# Importing required packages\n",
    "from nltk.corpus import stopwords # nltk.corpus.stopwords: Provides a collection of common stopwords for multiple languages.\n",
    "from nltk.tokenize import word_tokenize # nltk.tokenize.word_tokenize: A tokenizer that splits text into individual words\n",
    "import nltk # import nltk: The Natural Language Toolkit is a library used for natural language processing tasks.\n",
    "\n",
    "# Downloading the stopwords and punkt tokenizer if not already downloaded\n",
    "nltk.download('stopwords') # nltk.download('stopwords'): Ensures the required stopword dataset is downloaded locally\n",
    "nltk.download('punkt') # nltk.download('punkt'): Downloads the punkt tokenizer model, which is needed for tokenizing text into words or sentences\n",
    "\n",
    "# Getting the list of English stopwords\n",
    "stop_words = set(stopwords.words('english')) # stopwords.words('english'): Retrieves a predefined list of English stopwords\n",
    "\n",
    "# Functioning to remove stopwords\n",
    "def remove_stopwords(text): # def remove_stopwords(text):: Defines a function to clean text by removing stopwords\n",
    "    if not isinstance(text, str): # if not isinstance(text, str):: Checks if the input is a string; if not, it returns the input unchanged\n",
    "        return text  \n",
    "    words = word_tokenize(text)\n",
    "    filtered_words = [word for word in words if word.lower() not in stop_words]\n",
    "    return ' '.join(filtered_words)\n",
    "\n",
    "# Applying the function to the 'text' column\n",
    "dataFrame['text_cleaned'] = dataFrame['text'].apply(remove_stopwords)\n",
    "\n",
    "#dataFrame['text_cleaned'] = dataFrame['text'].apply(lambda x: ' '.join(word for word in x.split() if word not in stop_words))\n",
    "\n",
    "# Displaying the first five rocords\n",
    "print(\"****************************************Displaying below 5 records************************************************\")\n",
    "print(dataFrame[['text', 'text_cleaned']].head())\n"
   ]
  },
  {
   "cell_type": "code",
   "execution_count": 7,
   "id": "7d36e76f-f4ec-4d95-96fa-98845c39116b",
   "metadata": {},
   "outputs": [
    {
     "data": {
      "text/html": [
       "<div>\n",
       "<style scoped>\n",
       "    .dataframe tbody tr th:only-of-type {\n",
       "        vertical-align: middle;\n",
       "    }\n",
       "\n",
       "    .dataframe tbody tr th {\n",
       "        vertical-align: top;\n",
       "    }\n",
       "\n",
       "    .dataframe thead th {\n",
       "        text-align: right;\n",
       "    }\n",
       "</style>\n",
       "<table border=\"1\" class=\"dataframe\">\n",
       "  <thead>\n",
       "    <tr style=\"text-align: right;\">\n",
       "      <th></th>\n",
       "      <th>text</th>\n",
       "      <th>category</th>\n",
       "      <th>text_cleaned</th>\n",
       "    </tr>\n",
       "  </thead>\n",
       "  <tbody>\n",
       "    <tr>\n",
       "      <th>0</th>\n",
       "      <td>From: mathew &lt;mathew@mantis.co.uk&gt;</td>\n",
       "      <td>alt.atheism</td>\n",
       "      <td>: mathew &lt; mathew @ mantis.co.uk &gt;</td>\n",
       "    </tr>\n",
       "    <tr>\n",
       "      <th>1</th>\n",
       "      <td>Subject: Alt.Atheism FAQ: Atheist Resources</td>\n",
       "      <td>alt.atheism</td>\n",
       "      <td>Subject : Alt.Atheism FAQ : Atheist Resources</td>\n",
       "    </tr>\n",
       "    <tr>\n",
       "      <th>2</th>\n",
       "      <td></td>\n",
       "      <td>alt.atheism</td>\n",
       "      <td></td>\n",
       "    </tr>\n",
       "    <tr>\n",
       "      <th>3</th>\n",
       "      <td>Archive-name: atheism/resources</td>\n",
       "      <td>alt.atheism</td>\n",
       "      <td>Archive-name : atheism/resources</td>\n",
       "    </tr>\n",
       "    <tr>\n",
       "      <th>4</th>\n",
       "      <td>Alt-atheism-archive-name: resources</td>\n",
       "      <td>alt.atheism</td>\n",
       "      <td>Alt-atheism-archive-name : resources</td>\n",
       "    </tr>\n",
       "  </tbody>\n",
       "</table>\n",
       "</div>"
      ],
      "text/plain": [
       "                                          text     category  \\\n",
       "0           From: mathew <mathew@mantis.co.uk>  alt.atheism   \n",
       "1  Subject: Alt.Atheism FAQ: Atheist Resources  alt.atheism   \n",
       "2                                               alt.atheism   \n",
       "3              Archive-name: atheism/resources  alt.atheism   \n",
       "4          Alt-atheism-archive-name: resources  alt.atheism   \n",
       "\n",
       "                                    text_cleaned  \n",
       "0             : mathew < mathew @ mantis.co.uk >  \n",
       "1  Subject : Alt.Atheism FAQ : Atheist Resources  \n",
       "2                                                 \n",
       "3               Archive-name : atheism/resources  \n",
       "4           Alt-atheism-archive-name : resources  "
      ]
     },
     "execution_count": 7,
     "metadata": {},
     "output_type": "execute_result"
    }
   ],
   "source": [
    "# Displaying the first 5 records\n",
    "dataFrame.head(n=5)"
   ]
  },
  {
   "cell_type": "markdown",
   "id": "8ad1988a-cf37-4719-8958-10e5b743f821",
   "metadata": {},
   "source": [
    "# Task 2:- Remove the punctuations. the special characters and convert the text to lower case.        (2 Mark)"
   ]
  },
  {
   "cell_type": "code",
   "execution_count": 8,
   "id": "43699427-1c5f-457b-9481-2ce00ebefdce",
   "metadata": {},
   "outputs": [
    {
     "name": "stdout",
     "output_type": "stream",
     "text": [
      "***********************************************Displaying below the first five rocords of updated dataframe*********************************************\n"
     ]
    },
    {
     "data": {
      "text/html": [
       "<div>\n",
       "<style scoped>\n",
       "    .dataframe tbody tr th:only-of-type {\n",
       "        vertical-align: middle;\n",
       "    }\n",
       "\n",
       "    .dataframe tbody tr th {\n",
       "        vertical-align: top;\n",
       "    }\n",
       "\n",
       "    .dataframe thead th {\n",
       "        text-align: right;\n",
       "    }\n",
       "</style>\n",
       "<table border=\"1\" class=\"dataframe\">\n",
       "  <thead>\n",
       "    <tr style=\"text-align: right;\">\n",
       "      <th></th>\n",
       "      <th>text</th>\n",
       "      <th>category</th>\n",
       "      <th>text_cleaned</th>\n",
       "    </tr>\n",
       "  </thead>\n",
       "  <tbody>\n",
       "    <tr>\n",
       "      <th>0</th>\n",
       "      <td>From: mathew &lt;mathew@mantis.co.uk&gt;</td>\n",
       "      <td>alt.atheism</td>\n",
       "      <td>mathew  mathew  mantiscouk</td>\n",
       "    </tr>\n",
       "    <tr>\n",
       "      <th>1</th>\n",
       "      <td>Subject: Alt.Atheism FAQ: Atheist Resources</td>\n",
       "      <td>alt.atheism</td>\n",
       "      <td>subject  altatheism faq  atheist resources</td>\n",
       "    </tr>\n",
       "    <tr>\n",
       "      <th>2</th>\n",
       "      <td></td>\n",
       "      <td>alt.atheism</td>\n",
       "      <td></td>\n",
       "    </tr>\n",
       "    <tr>\n",
       "      <th>3</th>\n",
       "      <td>Archive-name: atheism/resources</td>\n",
       "      <td>alt.atheism</td>\n",
       "      <td>archivename  atheismresources</td>\n",
       "    </tr>\n",
       "    <tr>\n",
       "      <th>4</th>\n",
       "      <td>Alt-atheism-archive-name: resources</td>\n",
       "      <td>alt.atheism</td>\n",
       "      <td>altatheismarchivename  resources</td>\n",
       "    </tr>\n",
       "  </tbody>\n",
       "</table>\n",
       "</div>"
      ],
      "text/plain": [
       "                                          text     category  \\\n",
       "0           From: mathew <mathew@mantis.co.uk>  alt.atheism   \n",
       "1  Subject: Alt.Atheism FAQ: Atheist Resources  alt.atheism   \n",
       "2                                               alt.atheism   \n",
       "3              Archive-name: atheism/resources  alt.atheism   \n",
       "4          Alt-atheism-archive-name: resources  alt.atheism   \n",
       "\n",
       "                                 text_cleaned  \n",
       "0                 mathew  mathew  mantiscouk   \n",
       "1  subject  altatheism faq  atheist resources  \n",
       "2                                              \n",
       "3               archivename  atheismresources  \n",
       "4            altatheismarchivename  resources  "
      ]
     },
     "execution_count": 8,
     "metadata": {},
     "output_type": "execute_result"
    }
   ],
   "source": [
    "# Importing required packages\n",
    "import re\n",
    "\n",
    "# Functioning to preprocess text\n",
    "def preprocess_text(text):\n",
    "# Removing punctuation and special characters using regex\n",
    "    text = re.sub(r'[^\\w\\s]', '', text)  # Keeping only words and spaces\n",
    "# Converting text to lowercase\n",
    "    text = text.lower()\n",
    "    return text\n",
    "\n",
    "# Applying the preprocessing function to the 'text' column\n",
    "dataFrame['text_cleaned'] = dataFrame['text_cleaned'].apply(preprocess_text)\n",
    "\n",
    "# Displaying the first five rocords of updated dataFrame\n",
    "print(\"***********************************************Displaying below the first five rocords of updated dataframe*********************************************\")\n",
    "dataFrame.head()"
   ]
  },
  {
   "cell_type": "markdown",
   "id": "300b2763-6d47-425b-9ec9-c7a075fe335c",
   "metadata": {},
   "source": [
    "# Task 3:- create bigrams for the entire dataset and list down 10 least frequent bigrams. ( 1 Marks )"
   ]
  },
  {
   "cell_type": "code",
   "execution_count": 10,
   "id": "19151119-f600-414f-9f0e-721a314ced33",
   "metadata": {},
   "outputs": [
    {
     "name": "stderr",
     "output_type": "stream",
     "text": [
      "[nltk_data] Downloading package punkt to\n",
      "[nltk_data]     C:\\Users\\ASUS\\AppData\\Roaming\\nltk_data...\n",
      "[nltk_data]   Package punkt is already up-to-date!\n"
     ]
    },
    {
     "name": "stdout",
     "output_type": "stream",
     "text": [
      "10 Least Frequent Bigrams:\n",
      "('reign', 'tek'): 2\n",
      "('ways', 'means'): 2\n",
      "('returns', 'seeing'): 2\n",
      "('happy', 'returns'): 2\n",
      "('village', 'many'): 2\n",
      "('something', 'significant'): 2\n",
      "('dumb', 's'): 2\n",
      "('beomes', 'dumb'): 2\n",
      "('terminal', 'beomes'): 2\n",
      "('enter', 'terminal'): 2\n"
     ]
    }
   ],
   "source": [
    "# Importing required packages\n",
    "import nltk\n",
    "from nltk.util import bigrams\n",
    "from collections import Counter\n",
    "\n",
    "nltk.download('punkt') # nltk.download('punkt'): Downloads the punkt tokenizer model, which is needed for tokenizing text into words or sentences\n",
    "\n",
    "# Assuming 'dataFrame' contains a 'text_cleaned' column\n",
    "# Tokenizing text data from the 'text_cleaned' column\n",
    "dataFrame['tokens'] = dataFrame['text_cleaned'].astype(str).apply(nltk.word_tokenize)\n",
    "\n",
    "# Generating all bigrams from the tokenized text data\n",
    "bigrams_list = [bigram for tokens in dataFrame['tokens'] for bigram in bigrams(tokens)]\n",
    "\n",
    "# Counting the occurrences of each bigram\n",
    "bigram_frequency = Counter(bigrams_list)\n",
    "\n",
    "# Extracting the 10 least frequent bigrams\n",
    "least_frequent_bigrams = bigram_frequency.most_common()[-10:]\n",
    "\n",
    "# Printing the 10 least frequent bigrams\n",
    "print(\"10 Least Frequent Bigrams:\")\n",
    "for bigram, count in reversed(least_frequent_bigrams):\n",
    "    print(f\"{bigram}: {count}\")"
   ]
  },
  {
   "cell_type": "markdown",
   "id": "c9cc1a33-52a9-4ed9-85b2-bf57aa9c4dfa",
   "metadata": {},
   "source": [
    "# Task 4:- create bigrams for the entire dataset and list down 10 most frequent bigrams. ( 1 Marks )"
   ]
  },
  {
   "cell_type": "code",
   "execution_count": 75,
   "id": "70bc7122-e2b6-4486-bb4b-c729ef9abd31",
   "metadata": {},
   "outputs": [
    {
     "name": "stderr",
     "output_type": "stream",
     "text": [
      "[nltk_data] Downloading package punkt to\n",
      "[nltk_data]     C:\\Users\\ASUS\\AppData\\Roaming\\nltk_data...\n",
      "[nltk_data]   Package punkt is already up-to-date!\n"
     ]
    },
    {
     "name": "stdout",
     "output_type": "stream",
     "text": [
      "10 Most Frequent Bigrams:\n",
      "('ax', 'ax'): 111892\n",
      "('max', 'ax'): 8640\n",
      "('ca', 'nt'): 5876\n",
      "('nt', 'know'): 3433\n",
      "('0', '0'): 3127\n",
      "('_', '_'): 3096\n",
      "('r', 'g'): 2460\n",
      "('g', 'r'): 2298\n",
      "('would', 'nt'): 2248\n",
      "('wo', 'nt'): 2235\n"
     ]
    }
   ],
   "source": [
    "# Downloading the punkt tokenizer model (only need to run once)\n",
    "nltk.download('punkt')\n",
    "\n",
    "# Assuming 'dataFrame' contains a 'text_cleaned' column with cleaned text data\n",
    "# Tokenize the text data in the 'text_cleaned' column\n",
    "dataFrame['tokens'] = dataFrame['text_cleaned'].astype(str).apply(nltk.word_tokenize)\n",
    "\n",
    "# Creating bigrams for all the tokenized text in the dataframe\n",
    "bigrams_list = [\n",
    "    bigram\n",
    "    for tokens in dataFrame['tokens']\n",
    "    for bigram in bigrams(tokens)\n",
    "]\n",
    "\n",
    "# Counting the frequency of each bigram\n",
    "bigram_frequency = Counter(bigrams_list)\n",
    "\n",
    "# Getting the 10 most frequent bigrams\n",
    "top_10_bigrams = bigram_frequency.most_common(10)\n",
    "\n",
    "# Displaying the results for the 10 most frequent bigrams\n",
    "print(\"10 Most Frequent Bigrams:\")\n",
    "for bigram, count in top_10_bigrams:\n",
    "    print(f\"{bigram}: {count}\")"
   ]
  },
  {
   "cell_type": "markdown",
   "id": "84c6af44-f051-47ef-a383-a18ed8ef04cb",
   "metadata": {},
   "source": [
    "# Task 5:-  Differentiate between stemming and lemmetization by running algorithm on few words. You can choose the words by your own. ( 1 Mark )"
   ]
  },
  {
   "cell_type": "markdown",
   "id": "e969138b-d78c-48c6-acf6-f971eba68afa",
   "metadata": {},
   "source": [
    "#### Stemming and Lemmatization are techniques in Natural Language Processing (NLP) used to reduce words to their base or root form. However, they work differently:\n",
    "\n",
    "Stemming: Truncates words to their root form, often using heuristics without considering meaning.\n",
    "\n",
    "Lemmatization: Reduces words to their base or dictionary form, considering the word's meaning and part of speech."
   ]
  },
  {
   "cell_type": "code",
   "execution_count": 76,
   "id": "a76b3516-1c7d-46b5-a4e8-aa42995b4fa6",
   "metadata": {},
   "outputs": [
    {
     "name": "stdout",
     "output_type": "stream",
     "text": [
      "Word:['atheism', 'economy', 'sports', 'finance', 'technologies']\t\n",
      "Stemming:['atheism', 'economi', 'sport', 'financ', 'technolog']\t\n",
      "Lemmatized['atheism', 'economy', 'sport', 'finance', 'technology']\n"
     ]
    },
    {
     "name": "stderr",
     "output_type": "stream",
     "text": [
      "[nltk_data] Downloading package averaged_perceptron_tagger to\n",
      "[nltk_data]     C:\\Users\\ASUS\\AppData\\Roaming\\nltk_data...\n",
      "[nltk_data]   Package averaged_perceptron_tagger is already up-to-\n",
      "[nltk_data]       date!\n",
      "[nltk_data] Downloading package punkt to\n",
      "[nltk_data]     C:\\Users\\ASUS\\AppData\\Roaming\\nltk_data...\n",
      "[nltk_data]   Package punkt is already up-to-date!\n",
      "[nltk_data] Downloading package wordnet to\n",
      "[nltk_data]     C:\\Users\\ASUS\\AppData\\Roaming\\nltk_data...\n",
      "[nltk_data]   Package wordnet is already up-to-date!\n"
     ]
    }
   ],
   "source": [
    "# Importing required packages\n",
    "from nltk.stem import PorterStemmer, WordNetLemmatizer\n",
    "from nltk.corpus import wordnet\n",
    "nltk.download('averaged_perceptron_tagger')\n",
    "nltk.download('punkt')\n",
    "nltk.download('wordnet')\n",
    "\n",
    "# Initializing stemmer and lemmatizer\n",
    "stemmer = PorterStemmer()\n",
    "lemmatizer = WordNetLemmatizer()\n",
    "\n",
    "# Sample words for demonstration\n",
    "words = [\"atheism\", \"economy\", \"sports\", \"finance\", \"technologies\"]\n",
    "\n",
    "# Functioning to get wordnet POS for lemmatization\n",
    "def get_wordnet_pos(words):\n",
    "    tag = nltk.pos_tag([words])[0][1][0].lower()\n",
    "    if tag == 'v':\n",
    "        return wordnet.VERB\n",
    "    elif tag == 'n':\n",
    "        return wordnet.NOUN\n",
    "    elif tag == 'r':\n",
    "        return wordnet.ADV\n",
    "    else:\n",
    "        return wordnet.NOUN\n",
    "\n",
    "# Stemming and Lemmatization for each word\n",
    "stemmed_words = [stemmer.stem(word) for word in words]\n",
    "lemmatized_words = [lemmatizer.lemmatize(word, get_wordnet_pos(word)) for word in words]\n",
    "# Displaying output results\n",
    "print(f\"Word:{words}\\t\\nStemming:{stemmed_words}\\t\\nLemmatized{lemmatized_words}\")\n"
   ]
  },
  {
   "cell_type": "code",
   "execution_count": 77,
   "id": "2b91b44e-8358-4ca4-af10-cfde6cef2554",
   "metadata": {},
   "outputs": [
    {
     "data": {
      "text/html": [
       "<div>\n",
       "<style scoped>\n",
       "    .dataframe tbody tr th:only-of-type {\n",
       "        vertical-align: middle;\n",
       "    }\n",
       "\n",
       "    .dataframe tbody tr th {\n",
       "        vertical-align: top;\n",
       "    }\n",
       "\n",
       "    .dataframe thead th {\n",
       "        text-align: right;\n",
       "    }\n",
       "</style>\n",
       "<table border=\"1\" class=\"dataframe\">\n",
       "  <thead>\n",
       "    <tr style=\"text-align: right;\">\n",
       "      <th></th>\n",
       "      <th>text</th>\n",
       "      <th>category</th>\n",
       "      <th>text_cleaned</th>\n",
       "      <th>tokens</th>\n",
       "    </tr>\n",
       "  </thead>\n",
       "  <tbody>\n",
       "    <tr>\n",
       "      <th>0</th>\n",
       "      <td>From: mathew &lt;mathew@mantis.co.uk&gt;</td>\n",
       "      <td>alt.atheism</td>\n",
       "      <td>mathew  mathew  mantiscouk</td>\n",
       "      <td>[mathew, mathew, mantiscouk]</td>\n",
       "    </tr>\n",
       "    <tr>\n",
       "      <th>1</th>\n",
       "      <td>Subject: Alt.Atheism FAQ: Atheist Resources</td>\n",
       "      <td>alt.atheism</td>\n",
       "      <td>subject  altatheism faq  atheist resources</td>\n",
       "      <td>[subject, altatheism, faq, atheist, resources]</td>\n",
       "    </tr>\n",
       "    <tr>\n",
       "      <th>2</th>\n",
       "      <td></td>\n",
       "      <td>alt.atheism</td>\n",
       "      <td></td>\n",
       "      <td>[]</td>\n",
       "    </tr>\n",
       "    <tr>\n",
       "      <th>3</th>\n",
       "      <td>Archive-name: atheism/resources</td>\n",
       "      <td>alt.atheism</td>\n",
       "      <td>archivename  atheismresources</td>\n",
       "      <td>[archivename, atheismresources]</td>\n",
       "    </tr>\n",
       "    <tr>\n",
       "      <th>4</th>\n",
       "      <td>Alt-atheism-archive-name: resources</td>\n",
       "      <td>alt.atheism</td>\n",
       "      <td>altatheismarchivename  resources</td>\n",
       "      <td>[altatheismarchivename, resources]</td>\n",
       "    </tr>\n",
       "  </tbody>\n",
       "</table>\n",
       "</div>"
      ],
      "text/plain": [
       "                                          text     category  \\\n",
       "0           From: mathew <mathew@mantis.co.uk>  alt.atheism   \n",
       "1  Subject: Alt.Atheism FAQ: Atheist Resources  alt.atheism   \n",
       "2                                               alt.atheism   \n",
       "3              Archive-name: atheism/resources  alt.atheism   \n",
       "4          Alt-atheism-archive-name: resources  alt.atheism   \n",
       "\n",
       "                                 text_cleaned  \\\n",
       "0                 mathew  mathew  mantiscouk    \n",
       "1  subject  altatheism faq  atheist resources   \n",
       "2                                               \n",
       "3               archivename  atheismresources   \n",
       "4            altatheismarchivename  resources   \n",
       "\n",
       "                                           tokens  \n",
       "0                    [mathew, mathew, mantiscouk]  \n",
       "1  [subject, altatheism, faq, atheist, resources]  \n",
       "2                                              []  \n",
       "3                 [archivename, atheismresources]  \n",
       "4              [altatheismarchivename, resources]  "
      ]
     },
     "execution_count": 77,
     "metadata": {},
     "output_type": "execute_result"
    }
   ],
   "source": [
    "# Displaying the first 5 records\n",
    "dataFrame.head()"
   ]
  },
  {
   "cell_type": "markdown",
   "id": "296eb218-8b1b-4a77-aa1f-fb5dea0047a1",
   "metadata": {},
   "source": [
    "# Task 5:- Implement the TF-IDF from scratch to use it for step 6. ( 3 Mark )"
   ]
  },
  {
   "cell_type": "code",
   "execution_count": 22,
   "id": "c7b2db24-10d0-4ce8-86a2-1f4e2b6dabcc",
   "metadata": {},
   "outputs": [
    {
     "name": "stderr",
     "output_type": "stream",
     "text": [
      "[nltk_data] Downloading package punkt to\n",
      "[nltk_data]     C:\\Users\\ASUS\\AppData\\Roaming\\nltk_data...\n",
      "[nltk_data]   Package punkt is already up-to-date!\n"
     ]
    }
   ],
   "source": [
    "# Importing required packages\n",
    "import math\n",
    "from collections import defaultdict\n",
    "\n",
    "# Downloading necessary NLTK data\n",
    "nltk.download('punkt')\n",
    " \n",
    " \n",
    "# Step 1: Calculating Term Frequency (TF)\n",
    "def compute_tf(doc):\n",
    "    tf = defaultdict(int)\n",
    "    words = nltk.word_tokenize(doc)\n",
    "    for word in words:\n",
    "        tf[word] += 1\n",
    "    for word in tf:\n",
    "        tf[word] = tf[word] / len(words)\n",
    "    return tf\n",
    " \n",
    "# Step 2: Calculating Inverse Document Frequency (IDF)\n",
    "def compute_idf(docs):\n",
    "    idf = defaultdict(int)\n",
    "    total_docs = len(docs)\n",
    "    for doc in docs:\n",
    "        words = set(nltk.word_tokenize(doc))\n",
    "        for word in words:\n",
    "            idf[word] += 1\n",
    "    for word in idf:\n",
    "        idf[word] = math.log(total_docs / idf[word])\n",
    "    return idf\n",
    " \n",
    "# Step 3: Calculating TF-IDF\n",
    "def compute_tfidf(tf, idf):\n",
    "    tfidf = defaultdict(float)\n",
    "    for word in tf:\n",
    "        tfidf[word] = tf[word] * idf[word]\n",
    "    return tfidf\n",
    " \n",
    "# Computing TF for each document\n",
    "dataFrame['tf'] = dataFrame['text_cleaned'].apply(compute_tf)\n",
    " \n",
    "# Computing IDF for the entire corpus\n",
    "idf = compute_idf(dataFrame['text_cleaned'])\n",
    " \n",
    "# Computing TF-IDF for each document\n",
    "dataFrame['tfidf'] = dataFrame['tf'].apply(lambda tf: compute_tfidf(tf, idf))"
   ]
  },
  {
   "cell_type": "code",
   "execution_count": 23,
   "id": "15a545b8-f45c-47a1-b53f-03b086314eae",
   "metadata": {},
   "outputs": [
    {
     "data": {
      "text/html": [
       "<div>\n",
       "<style scoped>\n",
       "    .dataframe tbody tr th:only-of-type {\n",
       "        vertical-align: middle;\n",
       "    }\n",
       "\n",
       "    .dataframe tbody tr th {\n",
       "        vertical-align: top;\n",
       "    }\n",
       "\n",
       "    .dataframe thead th {\n",
       "        text-align: right;\n",
       "    }\n",
       "</style>\n",
       "<table border=\"1\" class=\"dataframe\">\n",
       "  <thead>\n",
       "    <tr style=\"text-align: right;\">\n",
       "      <th></th>\n",
       "      <th>text</th>\n",
       "      <th>category</th>\n",
       "      <th>text_cleaned</th>\n",
       "      <th>tokens</th>\n",
       "      <th>tf</th>\n",
       "      <th>tfidf</th>\n",
       "    </tr>\n",
       "  </thead>\n",
       "  <tbody>\n",
       "    <tr>\n",
       "      <th>0</th>\n",
       "      <td>From: mathew &lt;mathew@mantis.co.uk&gt;</td>\n",
       "      <td>alt.atheism</td>\n",
       "      <td>mathew  mathew  mantiscouk</td>\n",
       "      <td>[mathew, mathew, mantiscouk]</td>\n",
       "      <td>{'mathew': 0.6666666666666666, 'mantiscouk': 0...</td>\n",
       "      <td>{'mathew': 5.472624151824846, 'mantiscouk': 2....</td>\n",
       "    </tr>\n",
       "    <tr>\n",
       "      <th>1</th>\n",
       "      <td>Subject: Alt.Atheism FAQ: Atheist Resources</td>\n",
       "      <td>alt.atheism</td>\n",
       "      <td>subject  altatheism faq  atheist resources</td>\n",
       "      <td>[subject, altatheism, faq, atheist, resources]</td>\n",
       "      <td>{'subject': 0.2, 'altatheism': 0.2, 'faq': 0.2...</td>\n",
       "      <td>{'subject': 0.741858552610251, 'altatheism': 1...</td>\n",
       "    </tr>\n",
       "    <tr>\n",
       "      <th>2</th>\n",
       "      <td></td>\n",
       "      <td>alt.atheism</td>\n",
       "      <td></td>\n",
       "      <td>[]</td>\n",
       "      <td>{}</td>\n",
       "      <td>{}</td>\n",
       "    </tr>\n",
       "    <tr>\n",
       "      <th>3</th>\n",
       "      <td>Archive-name: atheism/resources</td>\n",
       "      <td>alt.atheism</td>\n",
       "      <td>archivename  atheismresources</td>\n",
       "      <td>[archivename, atheismresources]</td>\n",
       "      <td>{'archivename': 0.5, 'atheismresources': 0.5}</td>\n",
       "      <td>{'archivename': 4.607870483576128, 'atheismres...</td>\n",
       "    </tr>\n",
       "    <tr>\n",
       "      <th>4</th>\n",
       "      <td>Alt-atheism-archive-name: resources</td>\n",
       "      <td>alt.atheism</td>\n",
       "      <td>altatheismarchivename  resources</td>\n",
       "      <td>[altatheismarchivename, resources]</td>\n",
       "      <td>{'altatheismarchivename': 0.5, 'resources': 0.5}</td>\n",
       "      <td>{'altatheismarchivename': 5.656441042965747, '...</td>\n",
       "    </tr>\n",
       "  </tbody>\n",
       "</table>\n",
       "</div>"
      ],
      "text/plain": [
       "                                          text     category  \\\n",
       "0           From: mathew <mathew@mantis.co.uk>  alt.atheism   \n",
       "1  Subject: Alt.Atheism FAQ: Atheist Resources  alt.atheism   \n",
       "2                                               alt.atheism   \n",
       "3              Archive-name: atheism/resources  alt.atheism   \n",
       "4          Alt-atheism-archive-name: resources  alt.atheism   \n",
       "\n",
       "                                 text_cleaned  \\\n",
       "0                 mathew  mathew  mantiscouk    \n",
       "1  subject  altatheism faq  atheist resources   \n",
       "2                                               \n",
       "3               archivename  atheismresources   \n",
       "4            altatheismarchivename  resources   \n",
       "\n",
       "                                           tokens  \\\n",
       "0                    [mathew, mathew, mantiscouk]   \n",
       "1  [subject, altatheism, faq, atheist, resources]   \n",
       "2                                              []   \n",
       "3                 [archivename, atheismresources]   \n",
       "4              [altatheismarchivename, resources]   \n",
       "\n",
       "                                                  tf  \\\n",
       "0  {'mathew': 0.6666666666666666, 'mantiscouk': 0...   \n",
       "1  {'subject': 0.2, 'altatheism': 0.2, 'faq': 0.2...   \n",
       "2                                                 {}   \n",
       "3      {'archivename': 0.5, 'atheismresources': 0.5}   \n",
       "4   {'altatheismarchivename': 0.5, 'resources': 0.5}   \n",
       "\n",
       "                                               tfidf  \n",
       "0  {'mathew': 5.472624151824846, 'mantiscouk': 2....  \n",
       "1  {'subject': 0.741858552610251, 'altatheism': 1...  \n",
       "2                                                 {}  \n",
       "3  {'archivename': 4.607870483576128, 'atheismres...  \n",
       "4  {'altatheismarchivename': 5.656441042965747, '...  "
      ]
     },
     "execution_count": 23,
     "metadata": {},
     "output_type": "execute_result"
    }
   ],
   "source": [
    "dataFrame.head()"
   ]
  },
  {
   "cell_type": "markdown",
   "id": "a2f1036e-6fee-4563-8e26-58b0323c09f7",
   "metadata": {},
   "source": [
    "# Task 6:- plot the scatter graph of 5 random words from a document such  that - ( 3 Marks )\n",
    "\n",
    "x - axis frequency of word in the document\n",
    "\n",
    "y - axis Tf-IDF value\n",
    "\n",
    "Make sure to assign label to the scatter point which represent the word."
   ]
  },
  {
   "cell_type": "code",
   "execution_count": 25,
   "id": "2209cb80-a6b7-4a27-9bb1-97ab209faea9",
   "metadata": {},
   "outputs": [
    {
     "data": {
      "image/png": "[encoded data removed]",
      "text/plain": [
       "<Figure size 1000x600 with 1 Axes>"
      ]
     },
     "metadata": {},
     "output_type": "display_data"
    }
   ],
   "source": [
    "# Importing required packages\n",
    "import matplotlib.pyplot as plt\n",
    "import random\n",
    "\n",
    "# Selecting a document to plot from dataframe\n",
    "# Choose 2005th record in the dataframe\n",
    "document_index = 2005\n",
    "document_tf = dataFrame['tf'].iloc[document_index]\n",
    "document_tfidf = dataFrame['tfidf'].iloc[document_index]\n",
    " \n",
    "# Ensure there are words to sample\n",
    "if len(document_tf) < 5:\n",
    "    random_words = list(document_tf.keys())\n",
    "else:\n",
    "    random_words = random.sample(list(document_tf.keys()), 5)\n",
    " \n",
    "# Prepare data for plotting\n",
    "x = [document_tf[word] for word in random_words]\n",
    "y = [document_tfidf[word] for word in random_words]\n",
    " \n",
    "# Plotting the scatter graph\n",
    "plt.figure(figsize=(10, 6))\n",
    "plt.scatter(x, y)\n",
    " \n",
    "# Adding labels to the scatter points\n",
    "for i, word in enumerate(random_words):\n",
    "    plt.text(x[i], y[i], word, fontsize=12)\n",
    " \n",
    "# Setting the labels and title\n",
    "plt.xlabel('Frequency of Word in Document')\n",
    "plt.ylabel('TF-IDF Value')\n",
    "#plt.title('Scatter Plot of Word Frequency vs TF-IDF Value')\n",
    "plt.title(f'Scatter Plot of Word Frequency vs TF-IDF Value (Document {document_index})')\n",
    "plt.grid(True, linestyle='--', alpha=0.8)\n",
    "# Show the plot\n",
    "plt.show()"
   ]
  },
  {
   "cell_type": "markdown",
   "id": "c1f9d955-9cc5-4e25-a243-c8255924c504",
   "metadata": {},
   "source": [
    "# Task 7:- Label the cleaned Tf-IDF dataset ( obtained after performing step 1 and step 2 )   ( 2 Mark )"
   ]
  },
  {
   "cell_type": "code",
   "execution_count": 26,
   "id": "0f10eeaf-4d56-46a0-9a5f-56c2315f2392",
   "metadata": {},
   "outputs": [
    {
     "name": "stdout",
     "output_type": "stream",
     "text": [
      "Category to Label Mapping:\n",
      "{'alt.atheism': 0, 'comp.graphics': 1, 'comp.os.ms-windows.misc': 2, 'comp.sys.ibm.pc.hardware': 3, 'comp.sys.mac.hardware': 4, 'comp.windows.x': 5, 'misc.forsale': 6, 'rec.autos': 7, 'rec.motorcycles': 8, 'rec.sport.baseball': 9, 'rec.sport.hockey': 10, 'sci.crypt': 11, 'sci.electronics': 12, 'sci.med': 13, 'sci.space': 14, 'soc.religion.christian': 15, 'talk.politics.guns': 16, 'talk.politics.mideast': 17, 'talk.politics.misc': 18, 'talk.religion.misc': 19}\n",
      "\n",
      "Cleaned Dataset with Labels:\n",
      "                                 text_cleaned  \\\n",
      "0                 mathew  mathew  mantiscouk    \n",
      "1  subject  altatheism faq  atheist resources   \n",
      "2                                               \n",
      "3               archivename  atheismresources   \n",
      "4            altatheismarchivename  resources   \n",
      "\n",
      "                                           tokens  \\\n",
      "0                    [mathew, mathew, mantiscouk]   \n",
      "1  [subject, altatheism, faq, atheist, resources]   \n",
      "2                                              []   \n",
      "3                 [archivename, atheismresources]   \n",
      "4              [altatheismarchivename, resources]   \n",
      "\n",
      "                                               tfidf     category  label  \n",
      "0  {'mathew': 5.472624151824846, 'mantiscouk': 2....  alt.atheism      0  \n",
      "1  {'subject': 0.741858552610251, 'altatheism': 1...  alt.atheism      0  \n",
      "2                                                 {}  alt.atheism      0  \n",
      "3  {'archivename': 4.607870483576128, 'atheismres...  alt.atheism      0  \n",
      "4  {'altatheismarchivename': 5.656441042965747, '...  alt.atheism      0  \n"
     ]
    }
   ],
   "source": [
    "# Importing required packages\n",
    "from sklearn.preprocessing import LabelEncoder\n",
    "\n",
    "# Initializing the LabelEncoder\n",
    "encoder = LabelEncoder()\n",
    "\n",
    "# Encode the 'category' column and add the result as a new 'label' column\n",
    "dataFrame['label'] = encoder.fit_transform(dataFrame['category'])\n",
    "\n",
    "# Creating a dictionary mapping each category to its corresponding label\n",
    "category_to_label_mapping = dict(zip(encoder.classes_, encoder.transform(encoder.classes_)))\n",
    "\n",
    "# Displaying the category-to-label mapping\n",
    "print(\"Category to Label Mapping:\")\n",
    "print(category_to_label_mapping)\n",
    "\n",
    "# Displaying the cleaned dataset with the newly added 'label' column\n",
    "print(\"\\nCleaned Dataset with Labels:\")\n",
    "columns_to_display = ['text_cleaned', 'tokens', 'tfidf', 'category', 'label']\n",
    "print(dataFrame[columns_to_display].head())"
   ]
  },
  {
   "cell_type": "markdown",
   "id": "e32677a1-8298-45da-b3c8-03ec00d84d04",
   "metadata": {},
   "source": [
    "# Task 8:- Split the Train and the Test Dataset                      (1 Mark)"
   ]
  },
  {
   "cell_type": "code",
   "execution_count": 27,
   "id": "0286c636-f2af-44a3-9ed5-da29d7ac8f2e",
   "metadata": {},
   "outputs": [
    {
     "data": {
      "text/html": [
       "<div>\n",
       "<style scoped>\n",
       "    .dataframe tbody tr th:only-of-type {\n",
       "        vertical-align: middle;\n",
       "    }\n",
       "\n",
       "    .dataframe tbody tr th {\n",
       "        vertical-align: top;\n",
       "    }\n",
       "\n",
       "    .dataframe thead th {\n",
       "        text-align: right;\n",
       "    }\n",
       "</style>\n",
       "<table border=\"1\" class=\"dataframe\">\n",
       "  <thead>\n",
       "    <tr style=\"text-align: right;\">\n",
       "      <th></th>\n",
       "      <th>text</th>\n",
       "      <th>category</th>\n",
       "      <th>text_cleaned</th>\n",
       "      <th>tokens</th>\n",
       "      <th>tf</th>\n",
       "      <th>tfidf</th>\n",
       "      <th>label</th>\n",
       "    </tr>\n",
       "  </thead>\n",
       "  <tbody>\n",
       "    <tr>\n",
       "      <th>0</th>\n",
       "      <td>From: mathew &lt;mathew@mantis.co.uk&gt;</td>\n",
       "      <td>alt.atheism</td>\n",
       "      <td>mathew  mathew  mantiscouk</td>\n",
       "      <td>[mathew, mathew, mantiscouk]</td>\n",
       "      <td>{'mathew': 0.6666666666666666, 'mantiscouk': 0...</td>\n",
       "      <td>{'mathew': 5.472624151824846, 'mantiscouk': 2....</td>\n",
       "      <td>0</td>\n",
       "    </tr>\n",
       "    <tr>\n",
       "      <th>1</th>\n",
       "      <td>Subject: Alt.Atheism FAQ: Atheist Resources</td>\n",
       "      <td>alt.atheism</td>\n",
       "      <td>subject  altatheism faq  atheist resources</td>\n",
       "      <td>[subject, altatheism, faq, atheist, resources]</td>\n",
       "      <td>{'subject': 0.2, 'altatheism': 0.2, 'faq': 0.2...</td>\n",
       "      <td>{'subject': 0.741858552610251, 'altatheism': 1...</td>\n",
       "      <td>0</td>\n",
       "    </tr>\n",
       "    <tr>\n",
       "      <th>2</th>\n",
       "      <td></td>\n",
       "      <td>alt.atheism</td>\n",
       "      <td></td>\n",
       "      <td>[]</td>\n",
       "      <td>{}</td>\n",
       "      <td>{}</td>\n",
       "      <td>0</td>\n",
       "    </tr>\n",
       "    <tr>\n",
       "      <th>3</th>\n",
       "      <td>Archive-name: atheism/resources</td>\n",
       "      <td>alt.atheism</td>\n",
       "      <td>archivename  atheismresources</td>\n",
       "      <td>[archivename, atheismresources]</td>\n",
       "      <td>{'archivename': 0.5, 'atheismresources': 0.5}</td>\n",
       "      <td>{'archivename': 4.607870483576128, 'atheismres...</td>\n",
       "      <td>0</td>\n",
       "    </tr>\n",
       "    <tr>\n",
       "      <th>4</th>\n",
       "      <td>Alt-atheism-archive-name: resources</td>\n",
       "      <td>alt.atheism</td>\n",
       "      <td>altatheismarchivename  resources</td>\n",
       "      <td>[altatheismarchivename, resources]</td>\n",
       "      <td>{'altatheismarchivename': 0.5, 'resources': 0.5}</td>\n",
       "      <td>{'altatheismarchivename': 5.656441042965747, '...</td>\n",
       "      <td>0</td>\n",
       "    </tr>\n",
       "    <tr>\n",
       "      <th>...</th>\n",
       "      <td>...</td>\n",
       "      <td>...</td>\n",
       "      <td>...</td>\n",
       "      <td>...</td>\n",
       "      <td>...</td>\n",
       "      <td>...</td>\n",
       "      <td>...</td>\n",
       "    </tr>\n",
       "    <tr>\n",
       "      <th>1719255</th>\n",
       "      <td></td>\n",
       "      <td>talk.religion.misc</td>\n",
       "      <td></td>\n",
       "      <td>[]</td>\n",
       "      <td>{}</td>\n",
       "      <td>{}</td>\n",
       "      <td>19</td>\n",
       "    </tr>\n",
       "    <tr>\n",
       "      <th>1719256</th>\n",
       "      <td>You are in the village. Many happy returns! Be...</td>\n",
       "      <td>talk.religion.misc</td>\n",
       "      <td>village  many happy returns  seeing</td>\n",
       "      <td>[village, many, happy, returns, seeing]</td>\n",
       "      <td>{'village': 0.2, 'many': 0.2, 'happy': 0.2, 'r...</td>\n",
       "      <td>{'village': 1.6658252006848437, 'many': 1.0332...</td>\n",
       "      <td>19</td>\n",
       "    </tr>\n",
       "    <tr>\n",
       "      <th>1719257</th>\n",
       "      <td></td>\n",
       "      <td>talk.religion.misc</td>\n",
       "      <td></td>\n",
       "      <td>[]</td>\n",
       "      <td>{}</td>\n",
       "      <td>{}</td>\n",
       "      <td>19</td>\n",
       "    </tr>\n",
       "    <tr>\n",
       "      <th>1719258</th>\n",
       "      <td>[your ways and means get reign of the tek!]</td>\n",
       "      <td>talk.religion.misc</td>\n",
       "      <td>ways means get reign tek</td>\n",
       "      <td>[ways, means, get, reign, tek]</td>\n",
       "      <td>{'ways': 0.2, 'means': 0.2, 'get': 0.2, 'reign...</td>\n",
       "      <td>{'ways': 1.4414975375045613, 'means': 1.261085...</td>\n",
       "      <td>19</td>\n",
       "    </tr>\n",
       "    <tr>\n",
       "      <th>1719259</th>\n",
       "      <td></td>\n",
       "      <td>talk.religion.misc</td>\n",
       "      <td></td>\n",
       "      <td>[]</td>\n",
       "      <td>{}</td>\n",
       "      <td>{}</td>\n",
       "      <td>19</td>\n",
       "    </tr>\n",
       "  </tbody>\n",
       "</table>\n",
       "<p>1719260 rows × 7 columns</p>\n",
       "</div>"
      ],
      "text/plain": [
       "                                                      text  \\\n",
       "0                       From: mathew <mathew@mantis.co.uk>   \n",
       "1              Subject: Alt.Atheism FAQ: Atheist Resources   \n",
       "2                                                            \n",
       "3                          Archive-name: atheism/resources   \n",
       "4                      Alt-atheism-archive-name: resources   \n",
       "...                                                    ...   \n",
       "1719255                                                      \n",
       "1719256  You are in the village. Many happy returns! Be...   \n",
       "1719257                                                      \n",
       "1719258        [your ways and means get reign of the tek!]   \n",
       "1719259                                                      \n",
       "\n",
       "                   category                                text_cleaned  \\\n",
       "0               alt.atheism                 mathew  mathew  mantiscouk    \n",
       "1               alt.atheism  subject  altatheism faq  atheist resources   \n",
       "2               alt.atheism                                               \n",
       "3               alt.atheism               archivename  atheismresources   \n",
       "4               alt.atheism            altatheismarchivename  resources   \n",
       "...                     ...                                         ...   \n",
       "1719255  talk.religion.misc                                               \n",
       "1719256  talk.religion.misc        village  many happy returns  seeing    \n",
       "1719257  talk.religion.misc                                               \n",
       "1719258  talk.religion.misc                  ways means get reign tek     \n",
       "1719259  talk.religion.misc                                               \n",
       "\n",
       "                                                 tokens  \\\n",
       "0                          [mathew, mathew, mantiscouk]   \n",
       "1        [subject, altatheism, faq, atheist, resources]   \n",
       "2                                                    []   \n",
       "3                       [archivename, atheismresources]   \n",
       "4                    [altatheismarchivename, resources]   \n",
       "...                                                 ...   \n",
       "1719255                                              []   \n",
       "1719256         [village, many, happy, returns, seeing]   \n",
       "1719257                                              []   \n",
       "1719258                  [ways, means, get, reign, tek]   \n",
       "1719259                                              []   \n",
       "\n",
       "                                                        tf  \\\n",
       "0        {'mathew': 0.6666666666666666, 'mantiscouk': 0...   \n",
       "1        {'subject': 0.2, 'altatheism': 0.2, 'faq': 0.2...   \n",
       "2                                                       {}   \n",
       "3            {'archivename': 0.5, 'atheismresources': 0.5}   \n",
       "4         {'altatheismarchivename': 0.5, 'resources': 0.5}   \n",
       "...                                                    ...   \n",
       "1719255                                                 {}   \n",
       "1719256  {'village': 0.2, 'many': 0.2, 'happy': 0.2, 'r...   \n",
       "1719257                                                 {}   \n",
       "1719258  {'ways': 0.2, 'means': 0.2, 'get': 0.2, 'reign...   \n",
       "1719259                                                 {}   \n",
       "\n",
       "                                                     tfidf  label  \n",
       "0        {'mathew': 5.472624151824846, 'mantiscouk': 2....      0  \n",
       "1        {'subject': 0.741858552610251, 'altatheism': 1...      0  \n",
       "2                                                       {}      0  \n",
       "3        {'archivename': 4.607870483576128, 'atheismres...      0  \n",
       "4        {'altatheismarchivename': 5.656441042965747, '...      0  \n",
       "...                                                    ...    ...  \n",
       "1719255                                                 {}     19  \n",
       "1719256  {'village': 1.6658252006848437, 'many': 1.0332...     19  \n",
       "1719257                                                 {}     19  \n",
       "1719258  {'ways': 1.4414975375045613, 'means': 1.261085...     19  \n",
       "1719259                                                 {}     19  \n",
       "\n",
       "[1719260 rows x 7 columns]"
      ]
     },
     "execution_count": 27,
     "metadata": {},
     "output_type": "execute_result"
    }
   ],
   "source": [
    "# Displaying all records\n",
    "dataFrame"
   ]
  },
  {
   "cell_type": "code",
   "execution_count": 11,
   "id": "d5eaeea3-ee33-4b83-903a-ee2416fd8b13",
   "metadata": {},
   "outputs": [],
   "source": [
    "# Importing necessary function for dataset splitting\n",
    "from sklearn.model_selection import train_test_split\n",
    "\n",
    "# Defining the test size and random state for reproducibility\n",
    "test_size = 0.2\n",
    "random_state = 42\n",
    "\n",
    "# Perform the split: separate into training and testing sets\n",
    "train, test = train_test_split(dataFrame, test_size=test_size, random_state=random_state)\n"
   ]
  },
  {
   "cell_type": "code",
   "execution_count": 12,
   "id": "f15ce003-2817-4b14-8553-746d9e79faaa",
   "metadata": {},
   "outputs": [
    {
     "name": "stdout",
     "output_type": "stream",
     "text": [
      "Train set size:- 1375408\n",
      "Test set size:- 343852\n"
     ]
    }
   ],
   "source": [
    "# Verifying train test split size\n",
    "print(\"Train set size:- {}\".format(len(train)))\n",
    "print(\"Test set size:- {}\".format(len(test)))"
   ]
  },
  {
   "cell_type": "markdown",
   "id": "adc2cd24-6ed1-4acb-b7e6-1066253ffb6b",
   "metadata": {},
   "source": [
    "# Task 9:- Implement the Viterbi Algorithm ( you can use Library) to get the Part of Speech Tagging"
   ]
  },
  {
   "cell_type": "code",
   "execution_count": 20,
   "id": "3afd6e74-4396-478b-a625-665e3ee13b1a",
   "metadata": {},
   "outputs": [
    {
     "name": "stderr",
     "output_type": "stream",
     "text": [
      "[nltk_data] Downloading package averaged_perceptron_tagger to\n",
      "[nltk_data]     C:\\Users\\ASUS\\AppData\\Roaming\\nltk_data...\n",
      "[nltk_data]   Package averaged_perceptron_tagger is already up-to-\n",
      "[nltk_data]       date!\n"
     ]
    },
    {
     "name": "stdout",
     "output_type": "stream",
     "text": [
      "Preview of POS tags in the training dataset:\n",
      "                                              text_cleaned  \\\n",
      "1079672                        dyer  spdcccom  steve dyer    \n",
      "1547247                                                      \n",
      "1390063      laws pertaining right people keep bear arms     \n",
      "1192000  dave crawford  crawford  noaoedu   executive d...   \n",
      "782183                            yogi answered    phone     \n",
      "\n",
      "                                                  pos_tags  \n",
      "1079672  [(dyer, NN), (spdcccom, NN), (steve, VBP), (dy...  \n",
      "1547247                                                 []  \n",
      "1390063  [(laws, NNS), (pertaining, VBG), (right, JJ), ...  \n",
      "1192000  [(dave, NN), (crawford, NN), (crawford, NN), (...  \n",
      "782183          [(yogi, RB), (answered, VBD), (phone, NN)]  \n"
     ]
    }
   ],
   "source": [
    "# Importing required packages\n",
    "import nltk\n",
    "from nltk.tokenize import word_tokenize\n",
    "from sklearn.metrics import accuracy_score, f1_score\n",
    "\n",
    "# Downloading required NLTK data if not already available\n",
    "nltk.download('averaged_perceptron_tagger')\n",
    "\n",
    "# Function to tokenize text and perform POS tagging using NLTK\n",
    "def perform_pos_tagging(text):\n",
    "    # Tokenize the input text\n",
    "    tokens = word_tokenize(text)\n",
    "    # Apply part-of-speech tagging\n",
    "    return nltk.pos_tag(tokens)\n",
    "\n",
    "# Applying POS tagging to the 'text_cleaned' column in both training and test datasets\n",
    "train['pos_tags'] = train['text_cleaned'].apply(perform_pos_tagging)\n",
    "test['pos_tags'] = test['text_cleaned'].apply(perform_pos_tagging)\n",
    "\n",
    "# Displaying a preview of the POS tags in the training dataset\n",
    "print(\"Preview of POS tags in the training dataset:\")\n",
    "print(train[['text_cleaned', 'pos_tags']].head())"
   ]
  },
  {
   "cell_type": "markdown",
   "id": "0ab25c17-6e5e-4ecd-818b-f2974ffc4ded",
   "metadata": {},
   "source": [
    "# Task 10:- Calculate the Accuracy and F1 score. ( Number of Predicted Correct Tag in the test set / Total number of Data points in the test set)   (2 Marks)"
   ]
  },
  {
   "cell_type": "code",
   "execution_count": 14,
   "id": "d7eda4d2-5cb0-441b-b48a-d2cbeb45a088",
   "metadata": {},
   "outputs": [
    {
     "name": "stdout",
     "output_type": "stream",
     "text": [
      "Accuracy: 1.0000\n"
     ]
    }
   ],
   "source": [
    "# Function to compute accuracy\n",
    "def compute_accuracy(pred_tags, true_tags):\n",
    "    # Using sum and zip to count correct predictions\n",
    "    correct_predictions = sum(pred == true for pred, true in zip(pred_tags, true_tags))\n",
    "    # Return the accuracy as a fraction of correct predictions\n",
    "    return correct_predictions / len(true_tags)\n",
    "\n",
    "# Evaluating accuracy on the test set\n",
    "# Applying POS tagging to the 'text_cleaned' column in the test set\n",
    "test_tags = test['text_cleaned'].apply(perform_pos_tagging)\n",
    "\n",
    "# Assuming pred_tags is already computed (from your model output)\n",
    "pred_tags = test['pos_tags']\n",
    "\n",
    "# true_tags contains the actual POS tags for comparison\n",
    "true_tags = test_tags\n",
    "\n",
    "# Computing the accuracy of predictions\n",
    "accuracy = compute_accuracy(pred_tags, true_tags)\n",
    "\n",
    "# Displaying the accuracy result\n",
    "print(f\"Accuracy: {accuracy:.4f}\")"
   ]
  },
  {
   "cell_type": "code",
   "execution_count": 15,
   "id": "a1b43ea4-dfbc-4e6c-bd82-c104a1f25fad",
   "metadata": {},
   "outputs": [
    {
     "name": "stdout",
     "output_type": "stream",
     "text": [
      "F1 Score : 0.7409\n"
     ]
    },
    {
     "name": "stderr",
     "output_type": "stream",
     "text": [
      "C:\\Users\\ASUS\\miniconda3\\Lib\\site-packages\\sklearn\\metrics\\_classification.py:1517: UndefinedMetricWarning: F-score is ill-defined and being set to 0.0 in samples with no true nor predicted labels. Use `zero_division` parameter to control this behavior.\n",
      "  _warn_prf(average, modifier, f\"{metric.capitalize()} is\", len(result))\n"
     ]
    }
   ],
   "source": [
    "# Import necessary libraries\n",
    "from sklearn.preprocessing import MultiLabelBinarizer\n",
    "from sklearn.metrics import f1_score\n",
    "\n",
    "# Initialize MultiLabelBinarizer with sparse output\n",
    "multi_label_binarizer = MultiLabelBinarizer(sparse_output=True)\n",
    "\n",
    "# Fit the binarizer on the true labels to create the sparse matrix\n",
    "true_labels_sparse = multi_label_binarizer.fit_transform(true_tags)\n",
    "\n",
    "# Transform predicted labels using the fitted binarizer\n",
    "predicted_labels_sparse = multi_label_binarizer.transform(pred_tags)\n",
    "\n",
    "# Compute the F1 score for multi-label classification (using sparse matrices)\n",
    "f1_score_value = f1_score(true_labels_sparse, predicted_labels_sparse, average='samples')\n",
    "\n",
    "# Print the F1 score with formatting for readability\n",
    "print(f\"F1 Score : {f1_score_value:.4f}\")"
   ]
  },
  {
   "cell_type": "markdown",
   "id": "55244749-6d0f-4df5-8e78-8c8b152edc47",
   "metadata": {},
   "source": [
    "##### Use cleaned Tf-IDF dataset ( obtained after performing step 1 and step 2 ) \n"
   ]
  },
  {
   "cell_type": "markdown",
   "id": "c82f159b-9193-4068-b01e-73589ab3ca40",
   "metadata": {},
   "source": [
    "# Task 11:- Using the LDA algorithm create the Topics (10) for the Corpus             (2 Marks)"
   ]
  },
  {
   "cell_type": "code",
   "execution_count": 16,
   "id": "84bf5bcc-1cf6-4f91-b1b7-189f8575bfce",
   "metadata": {},
   "outputs": [
    {
     "name": "stderr",
     "output_type": "stream",
     "text": [
      "C:\\Users\\ASUS\\miniconda3\\Lib\\site-packages\\sklearn\\feature_extraction\\text.py:2032: UserWarning: Only (<class 'numpy.float64'>, <class 'numpy.float32'>, <class 'numpy.float16'>) 'dtype' should be used. float32 'dtype' will be converted to np.float64.\n",
      "  warnings.warn(\n"
     ]
    }
   ],
   "source": [
    "# Import necessary libraries\n",
    "from sklearn.decomposition import LatentDirichletAllocation\n",
    "from sklearn.feature_extraction.text import TfidfVectorizer\n",
    "\n",
    "# Convert tokenized text into space-separated strings for vectorization\n",
    "processed_texts = dataFrame['tokens'].str.join(' ')\n",
    "\n",
    "# Initialize the TF-IDF vectorizer with optimized settings\n",
    "tfidf_vectorizer = TfidfVectorizer(\n",
    "    max_df=0.9,          # Aggressively filter out terms that appear in more than 90% of documents\n",
    "    min_df=5,            # Ignore terms that appear in fewer than 5 documents\n",
    "    stop_words='english', # Remove common English stopwords\n",
    "    max_features=3000,   # Limit the number of features for efficiency\n",
    "    dtype='float32'      # Use float32 to reduce memory usage\n",
    ")\n",
    "\n",
    "# Transform the processed texts into a sparse TF-IDF matrix\n",
    "tfidf_matrix = tfidf_vectorizer.fit_transform(processed_texts)\n",
    "\n",
    "# Set the number of topics for the LDA model\n",
    "num_topics = 10\n",
    "\n",
    "# Initialize and fit the Latent Dirichlet Allocation model\n",
    "lda_model = LatentDirichletAllocation(\n",
    "    n_components=num_topics,  # Number of topics\n",
    "    random_state=42,          # Ensure reproducibility\n",
    "    n_jobs=-1                 # Utilize all available cores for computation\n",
    ")\n",
    "lda_model.fit(tfidf_matrix)\n",
    "\n",
    "# Retrieve the feature names (vocabulary) from the TF-IDF vectorizer\n",
    "feature_names = tfidf_vectorizer.get_feature_names_out()"
   ]
  },
  {
   "cell_type": "code",
   "execution_count": 17,
   "id": "1b4f2d18-5ed0-4d0c-a686-97f565388c32",
   "metadata": {},
   "outputs": [
    {
     "data": {
      "text/plain": [
       "array(['00', '04', '05', ..., 'zero', 'zone', 'zootorontoedu'],\n",
       "      dtype=object)"
      ]
     },
     "execution_count": 17,
     "metadata": {},
     "output_type": "execute_result"
    }
   ],
   "source": [
    "feature_names"
   ]
  },
  {
   "cell_type": "markdown",
   "id": "05425e9e-ded3-4aea-b16f-464f1de37f60",
   "metadata": {},
   "source": [
    "# Task 12:-  List down the 10 words in each of the Topics Extracted.           (2 Marks)"
   ]
  },
  {
   "cell_type": "code",
   "execution_count": 19,
   "id": "a3ea9b95-4f8e-4a79-8449-89d8ab3a0b69",
   "metadata": {},
   "outputs": [
    {
     "name": "stdout",
     "output_type": "stream",
     "text": [
      "Topic 1:\n",
      "Top Words: case, world, nt, composmswindowsmisc, best, think, power, price, reason, answer\n",
      "----------------------------------------\n",
      "Topic 2:\n",
      "Top Words: newsgroup, john, university, file, michael, scicrypt, scispace, recsporthockey, compgraphics, socreligionchristian\n",
      "----------------------------------------\n",
      "Topic 3:\n",
      "Top Words: email, nt, thing, years, list, send, things, robert, start, children\n",
      "----------------------------------------\n",
      "Topic 4:\n",
      "Top Words: ax, thanks, newsgroup, help, wrote, line, recautos, phone, compsysibmpchardware, compsysmachardware\n",
      "----------------------------------------\n",
      "Topic 5:\n",
      "Top Words: document_id, jim, understand, db, gun, sale, andrew, christian, programs, situation\n",
      "----------------------------------------\n",
      "Topic 6:\n",
      "Top Words: writes, article, newsgroup, steve, paul, recmotorcycles, scimed, scielectronics, files, like\n",
      "----------------------------------------\n",
      "Topic 7:\n",
      "Top Words: david, internet, says, chip, information, way, jews, key, subject, systems\n",
      "----------------------------------------\n",
      "Topic 8:\n",
      "Top Words: mark, time, problems, mr, run, nt, dos, science, running, days\n",
      "----------------------------------------\n",
      "Topic 9:\n",
      "Top Words: nt, know, say, god, jesus, life, people, let, thought, mike\n",
      "----------------------------------------\n",
      "Topic 10:\n",
      "Top Words: subject, nt, image, drive, netcomcom, talkpoliticsmideast, work, ve, car, program\n",
      "----------------------------------------\n"
     ]
    }
   ],
   "source": [
    "# Define the number of top words to display for each topic\n",
    "top_n_words = 10\n",
    "\n",
    "# Iterate through each topic to extract and display the top words\n",
    "for index, topic_weights in enumerate(lda_model.components_):\n",
    "    print(f\"Topic {index + 1}:\")\n",
    "    \n",
    "    # Identify indices of the top words for this topic\n",
    "    top_word_indices = topic_weights.argsort()[-top_n_words:][::-1]\n",
    "    \n",
    "    # Retrieve the actual words corresponding to the top indices\n",
    "    top_words = [feature_names[i] for i in top_word_indices]\n",
    "    \n",
    "    # Display the top words as a space-separated string\n",
    "    print(\"Top Words: \" + \", \".join(top_words))\n",
    "    print(\"-\" * 40)  # Add a separator for better readability"
   ]
  }
 ],
 "metadata": {
  "kernelspec": {
   "display_name": "Python 3 (ipykernel)",
   "language": "python",
   "name": "python3"
  },
  "language_info": {
   "codemirror_mode": {
    "name": "ipython",
    "version": 3
   },
   "file_extension": ".py",
   "mimetype": "text/x-python",
   "name": "python",
   "nbconvert_exporter": "python",
   "pygments_lexer": "ipython3",
   "version": "3.12.2"
  }
 },
 "nbformat": 4,
 "nbformat_minor": 5
}
